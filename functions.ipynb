{
  "nbformat": 4,
  "nbformat_minor": 0,
  "metadata": {
    "colab": {
      "name": "functions.ipynb",
      "provenance": [],
      "authorship_tag": "ABX9TyP51ji0LuzV/Q9ohAwjnOXF",
      "include_colab_link": true
    },
    "kernelspec": {
      "name": "python3",
      "display_name": "Python 3"
    },
    "language_info": {
      "name": "python"
    }
  },
  "cells": [
    {
      "cell_type": "markdown",
      "metadata": {
        "id": "view-in-github",
        "colab_type": "text"
      },
      "source": [
        "<a href=\"https://colab.research.google.com/github/GezhinOleg/PyDa_L4/blob/main/functions.ipynb\" target=\"_parent\"><img src=\"https://colab.research.google.com/assets/colab-badge.svg\" alt=\"Open In Colab\"/></a>"
      ]
    },
    {
      "cell_type": "code",
      "metadata": {
        "id": "yt1QUIU5brOM",
        "colab": {
          "base_uri": "https://localhost:8080/"
        },
        "outputId": "98cbe499-a73c-4820-83cd-60b7e4daafef"
      },
      "source": [
        "documents = [\n",
        " {'type': 'passport', 'number': '2207 876234', 'name': 'Василий Гупкин'},\n",
        " {'type': 'invoice', 'number': '11-2', 'name': 'Геннадий Покемонов'},\n",
        " {'type': 'insurance', 'number': '10006', 'name': 'Аристарх Павлов'}\n",
        "]\n",
        "\n",
        "directories = {\n",
        " '1': ['2207 876234', '11-2'],\n",
        " '2': ['10006'],\n",
        " '3': []\n",
        "}\n",
        "'''\n",
        "p - Пользователь может узнать владельца документа по его номеру\n",
        "s - Пользователь может по номеру документа узнать на какой полке он хранится\n",
        "l - Пользователь может увидеть полную информацию по всем документам\n",
        "ads - Пользователь может добавить новую полку\n",
        "ds - Пользователь может удалить существующую полку из данных (только если она пустая)\n",
        "ad - Пользователь может добавить новый документ в данные\n",
        "'''\n",
        "\n",
        "def person_document(doc_list):\n",
        "    result = 'Извините, введенный номер в базе отсутствует!'\n",
        "    doc_input = input('Введите номер документа:')\n",
        "    for i in doc_list:\n",
        "        if doc_input == i['number']:\n",
        "            result = i['name']\n",
        "    return result\n",
        "\n",
        "def shelf_document(shelf):\n",
        "    number_doc = input('Введите номер документа: ')\n",
        "    result = 'Извините, введенный номер в базе отсутствует!'\n",
        "    for shelf_l, doc in shelf.items():\n",
        "        for j in doc:\n",
        "            if number_doc == j:\n",
        "                result =  f'Лежит на полке № {shelf_l}'\n",
        "    return result\n",
        "\n",
        "def list_all_document(doc_list, shelf):\n",
        "    summary_dictionary = {}\n",
        "    for doc in doc_list:\n",
        "        for i in shelf:\n",
        "            for j in shelf[i]:\n",
        "                if j == doc['number']:\n",
        "                     print('№: ', doc['number'], ', тип: ', doc['type'], ', владелец: ', doc['name'], ', полка хранения: ', i, sep = '')\n",
        "\n",
        "def add_shelf(shelf):\n",
        "    new_shelf = input('Введите номер полки ')\n",
        "    if new_shelf not in directories:\n",
        "      directories[new_shelf] = []\n",
        "      print('Полка добавлена. Текущий перечень полок:', \",  \".join(map(str, directories)))\n",
        "    elif new_shelf in directories:\n",
        "      print('Такая полка уже существует. Текущий перечень полок:', \",  \".join(map(str, directories)))\n",
        "\n",
        "def delete_shelf(shelf):\n",
        "    del_shelf = input('Введите номер полки ')\n",
        "    if del_shelf in shelf:\n",
        "        if shelf[del_shelf] == []:\n",
        "            del shelf[del_shelf]\n",
        "            print('Полка удалена. Текущий перечень полок:', \",  \".join(map(str, shelf.keys())))\n",
        "        elif shelf[del_shelf] != []:\n",
        "            print('На полке есть документа, удалите их перед удалением полки. Текущий перечень полок:', \",  \".join(map(str, shelf.keys())))\n",
        "    else:\n",
        "        print('Такой полки не существует. Текущий перечень полок:', \",  \".join(map(str, shelf.keys())))\n",
        "\n",
        "def add_document(doc_list, shelf):\n",
        "    doc_new = {}\n",
        "    doc_new['number'] = input('Введите номер документа: ')\n",
        "    doc_new['type'] = input('Введите тип документа: ')\n",
        "    doc_new['name'] = input('Введите владельца документа: ')\n",
        "    num_shelf = input('Введите полку для хранения: ')\n",
        "    if num_shelf in shelf.keys():\n",
        "        shelf[num_shelf].append(doc_new['number'])\n",
        "        doc_list.append(doc_new)\n",
        "        print('Документ добавлен. Текущий список документов:', List_All_Document(documents, directories))\n",
        "        # Почему-то выводит список, с добавленным файлом и в конце прописывает\n",
        "        #[None]\n",
        "    else:\n",
        "        print('Такой полки не существует. Добавьте полку командой ads.')\n",
        "        print(list_all_document(documents, directories))\n",
        "# Сделал только функцию добавления документа, Остальные пункты, понимаю как делать,\n",
        "# но не могу себя заставить, примечание (необязательное) сильно расхолаживает.\n",
        "\n",
        "def main():\n",
        "    while True:\n",
        "        print('Для работы с программой введите команды: p, s, l, ads, ds, ad')\n",
        "        user_input = input('Введите команду: ')\n",
        "        if user_input == 'p':\n",
        "            print(person_document(documents))\n",
        "        elif user_input == 's':\n",
        "            print(shelf_document(directories))\n",
        "        elif user_input == 'l':\n",
        "            list_all_document(documents, directories)\n",
        "        elif user_input == 'ads':\n",
        "            add_shelf(directories)\n",
        "        elif user_input == 'ds':\n",
        "            delete_shelf(directories)\n",
        "        elif user_input == 'ad':\n",
        "            add_document(documents, directories)\n",
        "        elif user_input == 'q':\n",
        "            print('До свидания!')\n",
        "            break\n",
        "main()\n",
        "\n",
        "# Попытался сделать вызов функций через словарь, первые две получилось нормально, \n",
        "# потом из-за ввода параметров к функции началась путаница, решил не ломать, то что работает.\n",
        "# def main():\n",
        "#     while True:\n",
        "#         print('Для работы с программой введите команды: p, s, l, ads, ds, ad, d, m')\n",
        "#         user_input = input('Введите команду: ')\n",
        "#         command_user = {'p': 'Person_Document(documents)', 's': 'Shelf_Document(directories)', 'l': 'List_All_Document(documents, directories)',\n",
        "#         'ads': add_shelf}\n",
        "#         if user_input == 'q':\n",
        "#              print('До свидания!')\n",
        "#              break\n",
        "#         elif user_input in command_user:\n",
        "#             command_user[user_input]()\n",
        "#         else:\n",
        "#             print('Введите правильную команду.')\n",
        "#\n",
        "# main()\n"
      ],
      "execution_count": 3,
      "outputs": [
        {
          "output_type": "stream",
          "text": [
            "Для работы с программой введите команды: p, s, l, ads, ds, ad\n",
            "Введите команду: ads\n",
            "Введите номер полки 3\n",
            "Такая полка уже существует. Текущий перечень полок: 1,  2,  3\n",
            "Для работы с программой введите команды: p, s, l, ads, ds, ad\n",
            "Введите команду: ads\n",
            "Введите номер полки 4\n",
            "Полка добавлена. Текущий перечень полок: 1,  2,  3,  4\n",
            "Для работы с программой введите команды: p, s, l, ads, ds, ad\n",
            "Введите команду: q\n",
            "До свидания!\n"
          ],
          "name": "stdout"
        }
      ]
    },
    {
      "cell_type": "code",
      "metadata": {
        "id": "URvCnDhsdhUp"
      },
      "source": [
        ""
      ],
      "execution_count": null,
      "outputs": []
    }
  ]
}